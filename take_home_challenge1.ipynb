{
 "cells": [
  {
   "cell_type": "markdown",
   "metadata": {},
   "source": [
    "## Part 1 ‑ Exploratory data analysis: Aggregate login counts based on 15 minute time intervals, then visualize and describe the resulting time series"
   ]
  },
  {
   "cell_type": "code",
   "execution_count": 1,
   "metadata": {},
   "outputs": [],
   "source": [
    "#import packages\n",
    "import pandas as pd\n",
    "import json\n",
    "from datetime import datetime, timedelta\n",
    "import warnings\n",
    "warnings.filterwarnings('ignore')"
   ]
  },
  {
   "cell_type": "code",
   "execution_count": 2,
   "metadata": {},
   "outputs": [
    {
     "data": {
      "text/html": [
       "<div>\n",
       "<style scoped>\n",
       "    .dataframe tbody tr th:only-of-type {\n",
       "        vertical-align: middle;\n",
       "    }\n",
       "\n",
       "    .dataframe tbody tr th {\n",
       "        vertical-align: top;\n",
       "    }\n",
       "\n",
       "    .dataframe thead th {\n",
       "        text-align: right;\n",
       "    }\n",
       "</style>\n",
       "<table border=\"1\" class=\"dataframe\">\n",
       "  <thead>\n",
       "    <tr style=\"text-align: right;\">\n",
       "      <th></th>\n",
       "      <th>login_time</th>\n",
       "    </tr>\n",
       "  </thead>\n",
       "  <tbody>\n",
       "    <tr>\n",
       "      <th>0</th>\n",
       "      <td>1970-01-01 20:13:18</td>\n",
       "    </tr>\n",
       "    <tr>\n",
       "      <th>1</th>\n",
       "      <td>1970-01-01 20:16:10</td>\n",
       "    </tr>\n",
       "    <tr>\n",
       "      <th>2</th>\n",
       "      <td>1970-01-01 20:16:37</td>\n",
       "    </tr>\n",
       "    <tr>\n",
       "      <th>3</th>\n",
       "      <td>1970-01-01 20:16:36</td>\n",
       "    </tr>\n",
       "    <tr>\n",
       "      <th>4</th>\n",
       "      <td>1970-01-01 20:26:21</td>\n",
       "    </tr>\n",
       "  </tbody>\n",
       "</table>\n",
       "</div>"
      ],
      "text/plain": [
       "           login_time\n",
       "0 1970-01-01 20:13:18\n",
       "1 1970-01-01 20:16:10\n",
       "2 1970-01-01 20:16:37\n",
       "3 1970-01-01 20:16:36\n",
       "4 1970-01-01 20:26:21"
      ]
     },
     "execution_count": 2,
     "metadata": {},
     "output_type": "execute_result"
    }
   ],
   "source": [
    "#take a look at data frame\n",
    "df = pd.read_json('logins.json')\n",
    "df.head()"
   ]
  },
  {
   "cell_type": "code",
   "execution_count": 3,
   "metadata": {},
   "outputs": [
    {
     "data": {
      "text/plain": [
       "(93142, 1)"
      ]
     },
     "execution_count": 3,
     "metadata": {},
     "output_type": "execute_result"
    }
   ],
   "source": [
    "#there is only one column but how many rows\n",
    "df.shape"
   ]
  },
  {
   "cell_type": "code",
   "execution_count": 4,
   "metadata": {},
   "outputs": [
    {
     "data": {
      "text/plain": [
       "login_time    datetime64[ns]\n",
       "dtype: object"
      ]
     },
     "execution_count": 4,
     "metadata": {},
     "output_type": "execute_result"
    }
   ],
   "source": [
    "#check if datatype is pandas time series\n",
    "df.dtypes"
   ]
  },
  {
   "cell_type": "code",
   "execution_count": 5,
   "metadata": {},
   "outputs": [
    {
     "data": {
      "text/plain": [
       "login_time    0\n",
       "dtype: int64"
      ]
     },
     "execution_count": 5,
     "metadata": {},
     "output_type": "execute_result"
    }
   ],
   "source": [
    "#check if there are any missing values\n",
    "df.isnull().sum()"
   ]
  },
  {
   "cell_type": "code",
   "execution_count": 6,
   "metadata": {},
   "outputs": [
    {
     "data": {
      "text/plain": [
       "1"
      ]
     },
     "execution_count": 6,
     "metadata": {},
     "output_type": "execute_result"
    }
   ],
   "source": [
    "#take a look at how many years in dataset\n",
    "import numpy as np\n",
    "df['Year'] = df.login_time.dt.year\n",
    "Years = df['Year'].unique()\n",
    "np.sort(Years)\n",
    "len(Years)"
   ]
  },
  {
   "cell_type": "code",
   "execution_count": 7,
   "metadata": {},
   "outputs": [
    {
     "data": {
      "text/plain": [
       "4"
      ]
     },
     "execution_count": 7,
     "metadata": {},
     "output_type": "execute_result"
    }
   ],
   "source": [
    "#take a look at how many months in dataset\n",
    "df['Month'] = df.login_time.dt.month\n",
    "Months = df['Month'].unique()\n",
    "np.sort(Months)\n",
    "len(Months)"
   ]
  },
  {
   "cell_type": "code",
   "execution_count": 8,
   "metadata": {},
   "outputs": [
    {
     "data": {
      "text/plain": [
       "7"
      ]
     },
     "execution_count": 8,
     "metadata": {},
     "output_type": "execute_result"
    }
   ],
   "source": [
    "#take a look at how many day of week data assessed\n",
    "df['Day'] = df.login_time.dt.dayofweek\n",
    "Days = df['Day'].unique()\n",
    "np.sort(Days)\n",
    "len(Days)"
   ]
  },
  {
   "cell_type": "code",
   "execution_count": 9,
   "metadata": {},
   "outputs": [
    {
     "data": {
      "text/plain": [
       "Timestamp('1970-01-01 20:12:16')"
      ]
     },
     "execution_count": 9,
     "metadata": {},
     "output_type": "execute_result"
    }
   ],
   "source": [
    "#get minimum time stamp\n",
    "df.login_time.min()"
   ]
  },
  {
   "cell_type": "code",
   "execution_count": 10,
   "metadata": {},
   "outputs": [
    {
     "data": {
      "text/plain": [
       "Timestamp('1970-04-13 18:57:38')"
      ]
     },
     "execution_count": 10,
     "metadata": {},
     "output_type": "execute_result"
    }
   ],
   "source": [
    "#get max time stamp\n",
    "df.login_time.max()"
   ]
  },
  {
   "cell_type": "markdown",
   "metadata": {},
   "source": [
    "## This shows that epoch or unix time is used which is number of seconds that have passed since Jan 1 1970"
   ]
  },
  {
   "cell_type": "code",
   "execution_count": 11,
   "metadata": {},
   "outputs": [
    {
     "name": "stdout",
     "output_type": "stream",
     "text": [
      "Monday: 8823\n",
      "Tuesday: 9268\n",
      "Wednesday: 10339\n",
      "Thursday: 11960\n",
      "Friday: 15208\n",
      "Saturday: 19377\n",
      "Sunday: 18167\n"
     ]
    }
   ],
   "source": [
    "#look for login trends based on day of week \n",
    "print(\"Monday:\", len(df[df.login_time.dt.dayofweek == 0]))\n",
    "print(\"Tuesday:\", len(df[df.login_time.dt.dayofweek == 1]))\n",
    "print(\"Wednesday:\", len(df[df.login_time.dt.dayofweek == 2]))\n",
    "print(\"Thursday:\", len(df[df.login_time.dt.dayofweek == 3]))\n",
    "print(\"Friday:\", len(df[df.login_time.dt.dayofweek == 4]))\n",
    "print(\"Saturday:\", len(df[df.login_time.dt.dayofweek == 5]))\n",
    "print(\"Sunday:\", len(df[df.login_time.dt.dayofweek == 6]))"
   ]
  },
  {
   "cell_type": "code",
   "execution_count": 12,
   "metadata": {},
   "outputs": [
    {
     "data": {
      "text/html": [
       "<div>\n",
       "<style scoped>\n",
       "    .dataframe tbody tr th:only-of-type {\n",
       "        vertical-align: middle;\n",
       "    }\n",
       "\n",
       "    .dataframe tbody tr th {\n",
       "        vertical-align: top;\n",
       "    }\n",
       "\n",
       "    .dataframe thead th {\n",
       "        text-align: right;\n",
       "    }\n",
       "</style>\n",
       "<table border=\"1\" class=\"dataframe\">\n",
       "  <thead>\n",
       "    <tr style=\"text-align: right;\">\n",
       "      <th></th>\n",
       "      <th>login_time</th>\n",
       "      <th>Year</th>\n",
       "      <th>Month</th>\n",
       "      <th>Day</th>\n",
       "    </tr>\n",
       "  </thead>\n",
       "  <tbody>\n",
       "    <tr>\n",
       "      <th>0</th>\n",
       "      <td>1970-01-01 20:13:18</td>\n",
       "      <td>1970</td>\n",
       "      <td>1</td>\n",
       "      <td>3</td>\n",
       "    </tr>\n",
       "    <tr>\n",
       "      <th>1</th>\n",
       "      <td>1970-01-01 20:16:10</td>\n",
       "      <td>1970</td>\n",
       "      <td>1</td>\n",
       "      <td>3</td>\n",
       "    </tr>\n",
       "    <tr>\n",
       "      <th>2</th>\n",
       "      <td>1970-01-01 20:16:37</td>\n",
       "      <td>1970</td>\n",
       "      <td>1</td>\n",
       "      <td>3</td>\n",
       "    </tr>\n",
       "  </tbody>\n",
       "</table>\n",
       "</div>"
      ],
      "text/plain": [
       "           login_time  Year  Month  Day\n",
       "0 1970-01-01 20:13:18  1970      1    3\n",
       "1 1970-01-01 20:16:10  1970      1    3\n",
       "2 1970-01-01 20:16:37  1970      1    3"
      ]
     },
     "execution_count": 12,
     "metadata": {},
     "output_type": "execute_result"
    }
   ],
   "source": [
    "#check dataset with added columns\n",
    "df.head(3)"
   ]
  },
  {
   "cell_type": "markdown",
   "metadata": {},
   "source": [
    "## This shows dataset goes from January 1 to April  13, 1970 and all days of the week are represented but with Saturday represented the most and Monday represented the least.   "
   ]
  },
  {
   "cell_type": "code",
   "execution_count": 13,
   "metadata": {},
   "outputs": [],
   "source": [
    "#import plot package and create a new dataframe with logintime as only column\n",
    "import matplotlib.pyplot as plt\n",
    "df1 = pd.DataFrame(data=df, columns=['login_time'])"
   ]
  },
  {
   "cell_type": "code",
   "execution_count": 14,
   "metadata": {},
   "outputs": [
    {
     "data": {
      "text/plain": [
       "<Figure size 1440x1080 with 0 Axes>"
      ]
     },
     "metadata": {},
     "output_type": "display_data"
    },
    {
     "data": {
      "image/png": "[encoded data removed]",
      "text/plain": [
       "<Figure size 432x288 with 1 Axes>"
      ]
     },
     "metadata": {},
     "output_type": "display_data"
    }
   ],
   "source": [
    "#aggregate 15 minute increments by resetting login time to index\n",
    "df1.set_index('login_time', inplace=True)\n",
    "df1['count'] = 1\n",
    "#utilize resample function in order to aggregate w/orig dataframe\n",
    "def plot_resample(df,freq):\n",
    "    df_new = df.resample(freq).count()\n",
    "    plt.figure(figsize=[20,15])\n",
    "    df_new.plot()\n",
    "    plt.title('login counts with frequency ' + freq)\n",
    "    plt.show()\n",
    "    return df_new\n",
    "df15 = plot_resample(df1,'15min')"
   ]
  },
  {
   "cell_type": "markdown",
   "metadata": {},
   "source": [
    "### This shows that March had the highest frequency of 15 minute time interval login counts.  It also shows an overall increasing trend of login counts from January to April."
   ]
  },
  {
   "cell_type": "markdown",
   "metadata": {},
   "source": [
    "## Part 2:What would you choose as the key measure of success of this experiment in encouraging driver partners to serve both cities, and why would you choose this metric? Describe a practical experiment you would design to compare the effectiveness of the proposed change in relation to the key measure of success. "
   ]
  },
  {
   "cell_type": "markdown",
   "metadata": {},
   "source": [
    "###  This could be a regression problem.  Success would mean that the null hypothesis which is that driving in both cities favors Ultimate drivers is true and the alternate hypothesis would be that adding both cities does not favor drivers.  Another hypothesis could be taking a difference of means between adding both cities vs only one = 0 and the alternate hypothesis would be that there is a statistical difference between driving in one city vs driving in both. Further data would be needed to implement frequentist testing.  Implementation thus could be a gradient boosting regressor with best features selected.  Data would need to be cleaned and pre-processed prior to beginning machine learning.  "
   ]
  },
  {
   "cell_type": "code",
   "execution_count": 15,
   "metadata": {},
   "outputs": [
    {
     "name": "stdout",
     "output_type": "stream",
     "text": [
      "(50000, 12)\n"
     ]
    },
    {
     "data": {
      "text/html": [
       "<div>\n",
       "<style scoped>\n",
       "    .dataframe tbody tr th:only-of-type {\n",
       "        vertical-align: middle;\n",
       "    }\n",
       "\n",
       "    .dataframe tbody tr th {\n",
       "        vertical-align: top;\n",
       "    }\n",
       "\n",
       "    .dataframe thead th {\n",
       "        text-align: right;\n",
       "    }\n",
       "</style>\n",
       "<table border=\"1\" class=\"dataframe\">\n",
       "  <thead>\n",
       "    <tr style=\"text-align: right;\">\n",
       "      <th></th>\n",
       "      <th>avg_dist</th>\n",
       "      <th>avg_rating_by_driver</th>\n",
       "      <th>avg_rating_of_driver</th>\n",
       "      <th>avg_surge</th>\n",
       "      <th>city</th>\n",
       "      <th>last_trip_date</th>\n",
       "      <th>phone</th>\n",
       "      <th>signup_date</th>\n",
       "      <th>surge_pct</th>\n",
       "      <th>trips_in_first_30_days</th>\n",
       "      <th>ultimate_black_user</th>\n",
       "      <th>weekday_pct</th>\n",
       "    </tr>\n",
       "  </thead>\n",
       "  <tbody>\n",
       "    <tr>\n",
       "      <th>0</th>\n",
       "      <td>3.67</td>\n",
       "      <td>5.0</td>\n",
       "      <td>4.7</td>\n",
       "      <td>1.10</td>\n",
       "      <td>King's Landing</td>\n",
       "      <td>2014-06-17</td>\n",
       "      <td>iPhone</td>\n",
       "      <td>2014-01-25</td>\n",
       "      <td>15.4</td>\n",
       "      <td>4</td>\n",
       "      <td>True</td>\n",
       "      <td>46.2</td>\n",
       "    </tr>\n",
       "    <tr>\n",
       "      <th>1</th>\n",
       "      <td>8.26</td>\n",
       "      <td>5.0</td>\n",
       "      <td>5.0</td>\n",
       "      <td>1.00</td>\n",
       "      <td>Astapor</td>\n",
       "      <td>2014-05-05</td>\n",
       "      <td>Android</td>\n",
       "      <td>2014-01-29</td>\n",
       "      <td>0.0</td>\n",
       "      <td>0</td>\n",
       "      <td>False</td>\n",
       "      <td>50.0</td>\n",
       "    </tr>\n",
       "    <tr>\n",
       "      <th>2</th>\n",
       "      <td>0.77</td>\n",
       "      <td>5.0</td>\n",
       "      <td>4.3</td>\n",
       "      <td>1.00</td>\n",
       "      <td>Astapor</td>\n",
       "      <td>2014-01-07</td>\n",
       "      <td>iPhone</td>\n",
       "      <td>2014-01-06</td>\n",
       "      <td>0.0</td>\n",
       "      <td>3</td>\n",
       "      <td>False</td>\n",
       "      <td>100.0</td>\n",
       "    </tr>\n",
       "    <tr>\n",
       "      <th>3</th>\n",
       "      <td>2.36</td>\n",
       "      <td>4.9</td>\n",
       "      <td>4.6</td>\n",
       "      <td>1.14</td>\n",
       "      <td>King's Landing</td>\n",
       "      <td>2014-06-29</td>\n",
       "      <td>iPhone</td>\n",
       "      <td>2014-01-10</td>\n",
       "      <td>20.0</td>\n",
       "      <td>9</td>\n",
       "      <td>True</td>\n",
       "      <td>80.0</td>\n",
       "    </tr>\n",
       "    <tr>\n",
       "      <th>4</th>\n",
       "      <td>3.13</td>\n",
       "      <td>4.9</td>\n",
       "      <td>4.4</td>\n",
       "      <td>1.19</td>\n",
       "      <td>Winterfell</td>\n",
       "      <td>2014-03-15</td>\n",
       "      <td>Android</td>\n",
       "      <td>2014-01-27</td>\n",
       "      <td>11.8</td>\n",
       "      <td>14</td>\n",
       "      <td>False</td>\n",
       "      <td>82.4</td>\n",
       "    </tr>\n",
       "  </tbody>\n",
       "</table>\n",
       "</div>"
      ],
      "text/plain": [
       "   avg_dist  avg_rating_by_driver  avg_rating_of_driver  avg_surge  \\\n",
       "0      3.67                   5.0                   4.7       1.10   \n",
       "1      8.26                   5.0                   5.0       1.00   \n",
       "2      0.77                   5.0                   4.3       1.00   \n",
       "3      2.36                   4.9                   4.6       1.14   \n",
       "4      3.13                   4.9                   4.4       1.19   \n",
       "\n",
       "             city last_trip_date    phone signup_date  surge_pct  \\\n",
       "0  King's Landing     2014-06-17   iPhone  2014-01-25       15.4   \n",
       "1         Astapor     2014-05-05  Android  2014-01-29        0.0   \n",
       "2         Astapor     2014-01-07   iPhone  2014-01-06        0.0   \n",
       "3  King's Landing     2014-06-29   iPhone  2014-01-10       20.0   \n",
       "4      Winterfell     2014-03-15  Android  2014-01-27       11.8   \n",
       "\n",
       "   trips_in_first_30_days  ultimate_black_user  weekday_pct  \n",
       "0                       4                 True         46.2  \n",
       "1                       0                False         50.0  \n",
       "2                       3                False        100.0  \n",
       "3                       9                 True         80.0  \n",
       "4                      14                False         82.4  "
      ]
     },
     "execution_count": 15,
     "metadata": {},
     "output_type": "execute_result"
    }
   ],
   "source": [
    "#read in the dataset; load as a dataframe ult\n",
    "with open('ultimate_data_challenge.json', 'r') as file:\n",
    "   data = json.load(file)\n",
    "ult = pd.DataFrame(data)\n",
    "print(ult.shape)\n",
    "ult.head()"
   ]
  },
  {
   "cell_type": "code",
   "execution_count": 16,
   "metadata": {},
   "outputs": [
    {
     "data": {
      "text/html": [
       "<div>\n",
       "<style scoped>\n",
       "    .dataframe tbody tr th:only-of-type {\n",
       "        vertical-align: middle;\n",
       "    }\n",
       "\n",
       "    .dataframe tbody tr th {\n",
       "        vertical-align: top;\n",
       "    }\n",
       "\n",
       "    .dataframe thead th {\n",
       "        text-align: right;\n",
       "    }\n",
       "</style>\n",
       "<table border=\"1\" class=\"dataframe\">\n",
       "  <thead>\n",
       "    <tr style=\"text-align: right;\">\n",
       "      <th></th>\n",
       "      <th>avg_dist</th>\n",
       "      <th>avg_rating_by_driver</th>\n",
       "      <th>avg_rating_of_driver</th>\n",
       "      <th>avg_surge</th>\n",
       "      <th>surge_pct</th>\n",
       "      <th>trips_in_first_30_days</th>\n",
       "      <th>weekday_pct</th>\n",
       "    </tr>\n",
       "  </thead>\n",
       "  <tbody>\n",
       "    <tr>\n",
       "      <th>count</th>\n",
       "      <td>50000.000000</td>\n",
       "      <td>49799.000000</td>\n",
       "      <td>41878.000000</td>\n",
       "      <td>50000.000000</td>\n",
       "      <td>50000.000000</td>\n",
       "      <td>50000.000000</td>\n",
       "      <td>50000.000000</td>\n",
       "    </tr>\n",
       "    <tr>\n",
       "      <th>mean</th>\n",
       "      <td>5.796827</td>\n",
       "      <td>4.778158</td>\n",
       "      <td>4.601559</td>\n",
       "      <td>1.074764</td>\n",
       "      <td>8.849536</td>\n",
       "      <td>2.278200</td>\n",
       "      <td>60.926084</td>\n",
       "    </tr>\n",
       "    <tr>\n",
       "      <th>std</th>\n",
       "      <td>5.707357</td>\n",
       "      <td>0.446652</td>\n",
       "      <td>0.617338</td>\n",
       "      <td>0.222336</td>\n",
       "      <td>19.958811</td>\n",
       "      <td>3.792684</td>\n",
       "      <td>37.081503</td>\n",
       "    </tr>\n",
       "    <tr>\n",
       "      <th>min</th>\n",
       "      <td>0.000000</td>\n",
       "      <td>1.000000</td>\n",
       "      <td>1.000000</td>\n",
       "      <td>1.000000</td>\n",
       "      <td>0.000000</td>\n",
       "      <td>0.000000</td>\n",
       "      <td>0.000000</td>\n",
       "    </tr>\n",
       "    <tr>\n",
       "      <th>25%</th>\n",
       "      <td>2.420000</td>\n",
       "      <td>4.700000</td>\n",
       "      <td>4.300000</td>\n",
       "      <td>1.000000</td>\n",
       "      <td>0.000000</td>\n",
       "      <td>0.000000</td>\n",
       "      <td>33.300000</td>\n",
       "    </tr>\n",
       "    <tr>\n",
       "      <th>50%</th>\n",
       "      <td>3.880000</td>\n",
       "      <td>5.000000</td>\n",
       "      <td>4.900000</td>\n",
       "      <td>1.000000</td>\n",
       "      <td>0.000000</td>\n",
       "      <td>1.000000</td>\n",
       "      <td>66.700000</td>\n",
       "    </tr>\n",
       "    <tr>\n",
       "      <th>75%</th>\n",
       "      <td>6.940000</td>\n",
       "      <td>5.000000</td>\n",
       "      <td>5.000000</td>\n",
       "      <td>1.050000</td>\n",
       "      <td>8.600000</td>\n",
       "      <td>3.000000</td>\n",
       "      <td>100.000000</td>\n",
       "    </tr>\n",
       "    <tr>\n",
       "      <th>max</th>\n",
       "      <td>160.960000</td>\n",
       "      <td>5.000000</td>\n",
       "      <td>5.000000</td>\n",
       "      <td>8.000000</td>\n",
       "      <td>100.000000</td>\n",
       "      <td>125.000000</td>\n",
       "      <td>100.000000</td>\n",
       "    </tr>\n",
       "  </tbody>\n",
       "</table>\n",
       "</div>"
      ],
      "text/plain": [
       "           avg_dist  avg_rating_by_driver  avg_rating_of_driver     avg_surge  \\\n",
       "count  50000.000000          49799.000000          41878.000000  50000.000000   \n",
       "mean       5.796827              4.778158              4.601559      1.074764   \n",
       "std        5.707357              0.446652              0.617338      0.222336   \n",
       "min        0.000000              1.000000              1.000000      1.000000   \n",
       "25%        2.420000              4.700000              4.300000      1.000000   \n",
       "50%        3.880000              5.000000              4.900000      1.000000   \n",
       "75%        6.940000              5.000000              5.000000      1.050000   \n",
       "max      160.960000              5.000000              5.000000      8.000000   \n",
       "\n",
       "          surge_pct  trips_in_first_30_days   weekday_pct  \n",
       "count  50000.000000            50000.000000  50000.000000  \n",
       "mean       8.849536                2.278200     60.926084  \n",
       "std       19.958811                3.792684     37.081503  \n",
       "min        0.000000                0.000000      0.000000  \n",
       "25%        0.000000                0.000000     33.300000  \n",
       "50%        0.000000                1.000000     66.700000  \n",
       "75%        8.600000                3.000000    100.000000  \n",
       "max      100.000000              125.000000    100.000000  "
      ]
     },
     "execution_count": 16,
     "metadata": {},
     "output_type": "execute_result"
    }
   ],
   "source": [
    "#look for any trends in dataset\n",
    "ult.describe()"
   ]
  },
  {
   "cell_type": "markdown",
   "metadata": {},
   "source": [
    "### Interesting trends/findings: 60% of Ultimate business occurs during weekdays which implies 40% occurs on the weekends. This indicates that more folks use Ultimate on weekends then on weekdays since there is an average daily usage of 12% on weekdays and an average daily usage of 20% on weekends.  The other interesting finding is that whereas the max distance is 160 miles, the average Ultimate ride is only 5.79 miles.  Since revenue is not part of this dataset, distance will be used as a metric since driving more distance would increase revenue for the Ultimate drivers.  The last interesting finding is that the ratings for ultimate drivers is relatively high and thus one concern the Ultimate drivers may have is if increasing distance travelled would affect their ratings.  Finally, only an average of 2 trips are taken within the first 30 days of signing up with Ultimate thus perhaps another incentive would be that if there were no toll costs and drivers could thus travel easily from Gotham to Metropolis, the average number of trips taken in the first 30 days could potentially increase.  "
   ]
  },
  {
   "cell_type": "code",
   "execution_count": 17,
   "metadata": {},
   "outputs": [
    {
     "name": "stdout",
     "output_type": "stream",
     "text": [
      "<class 'pandas.core.frame.DataFrame'>\n",
      "RangeIndex: 50000 entries, 0 to 49999\n",
      "Data columns (total 12 columns):\n",
      "avg_dist                  50000 non-null float64\n",
      "avg_rating_by_driver      49799 non-null float64\n",
      "avg_rating_of_driver      41878 non-null float64\n",
      "avg_surge                 50000 non-null float64\n",
      "city                      50000 non-null object\n",
      "last_trip_date            50000 non-null object\n",
      "phone                     49604 non-null object\n",
      "signup_date               50000 non-null object\n",
      "surge_pct                 50000 non-null float64\n",
      "trips_in_first_30_days    50000 non-null int64\n",
      "ultimate_black_user       50000 non-null bool\n",
      "weekday_pct               50000 non-null float64\n",
      "dtypes: bool(1), float64(6), int64(1), object(4)\n",
      "memory usage: 4.2+ MB\n"
     ]
    }
   ],
   "source": [
    "#take a look at d types of dataset \n",
    "ult.info()"
   ]
  },
  {
   "cell_type": "code",
   "execution_count": 18,
   "metadata": {},
   "outputs": [
    {
     "data": {
      "text/plain": [
       "avg_dist                     0\n",
       "avg_rating_by_driver       201\n",
       "avg_rating_of_driver      8122\n",
       "avg_surge                    0\n",
       "city                         0\n",
       "last_trip_date               0\n",
       "phone                      396\n",
       "signup_date                  0\n",
       "surge_pct                    0\n",
       "trips_in_first_30_days       0\n",
       "ultimate_black_user          0\n",
       "weekday_pct                  0\n",
       "dtype: int64"
      ]
     },
     "execution_count": 18,
     "metadata": {},
     "output_type": "execute_result"
    }
   ],
   "source": [
    "#take a look at how many missing values\n",
    "ult.isnull().sum()"
   ]
  },
  {
   "cell_type": "code",
   "execution_count": 19,
   "metadata": {},
   "outputs": [
    {
     "data": {
      "text/plain": [
       "avg_dist                     0\n",
       "avg_rating_by_driver       201\n",
       "avg_rating_of_driver      8122\n",
       "avg_surge                    0\n",
       "city                         0\n",
       "last_trip_date               0\n",
       "phone                        0\n",
       "signup_date                  0\n",
       "surge_pct                    0\n",
       "trips_in_first_30_days       0\n",
       "ultimate_black_user          0\n",
       "weekday_pct                  0\n",
       "dtype: int64"
      ]
     },
     "execution_count": 19,
     "metadata": {},
     "output_type": "execute_result"
    }
   ],
   "source": [
    "#fill missing phone info with 'other'\n",
    "ult.phone.fillna('Other', inplace=True)\n",
    "ult.isnull().sum()"
   ]
  },
  {
   "cell_type": "code",
   "execution_count": 20,
   "metadata": {},
   "outputs": [
    {
     "data": {
      "text/plain": [
       "avg_dist                  0\n",
       "avg_rating_by_driver      0\n",
       "avg_rating_of_driver      0\n",
       "avg_surge                 0\n",
       "city                      0\n",
       "last_trip_date            0\n",
       "phone                     0\n",
       "signup_date               0\n",
       "surge_pct                 0\n",
       "trips_in_first_30_days    0\n",
       "ultimate_black_user       0\n",
       "weekday_pct               0\n",
       "dtype: int64"
      ]
     },
     "execution_count": 20,
     "metadata": {},
     "output_type": "execute_result"
    }
   ],
   "source": [
    "#make sure there are no missing values after filling rating with mean\n",
    "ult.avg_rating_by_driver.fillna(ult.avg_rating_by_driver.mean(), inplace=True)\n",
    "ult.avg_rating_of_driver.fillna(ult.avg_rating_of_driver.mean(), inplace=True)\n",
    "ult.isnull().sum()"
   ]
  },
  {
   "cell_type": "code",
   "execution_count": 21,
   "metadata": {},
   "outputs": [
    {
     "data": {
      "text/plain": [
       "avg_dist                         float64\n",
       "avg_rating_by_driver             float64\n",
       "avg_rating_of_driver             float64\n",
       "avg_surge                        float64\n",
       "city                              object\n",
       "last_trip_date            datetime64[ns]\n",
       "phone                             object\n",
       "signup_date               datetime64[ns]\n",
       "surge_pct                        float64\n",
       "trips_in_first_30_days             int64\n",
       "ultimate_black_user                 bool\n",
       "weekday_pct                      float64\n",
       "dtype: object"
      ]
     },
     "execution_count": 21,
     "metadata": {},
     "output_type": "execute_result"
    }
   ],
   "source": [
    "#convert to pd dateitme in order to do data exploration\n",
    "ult['last_trip_date'] = pd.to_datetime(ult.last_trip_date)\n",
    "ult['signup_date'] = pd.to_datetime(ult.signup_date)\n",
    "ult.dtypes"
   ]
  },
  {
   "cell_type": "code",
   "execution_count": 22,
   "metadata": {},
   "outputs": [
    {
     "data": {
      "text/plain": [
       "Winterfell        23336\n",
       "Astapor           16534\n",
       "King's Landing    10130\n",
       "Name: city, dtype: int64"
      ]
     },
     "execution_count": 22,
     "metadata": {},
     "output_type": "execute_result"
    }
   ],
   "source": [
    "#look at counts of different cities\n",
    "ult.city.value_counts()"
   ]
  },
  {
   "cell_type": "code",
   "execution_count": 23,
   "metadata": {},
   "outputs": [
    {
     "data": {
      "text/plain": [
       "False    31146\n",
       "True     18854\n",
       "Name: ultimate_black_user, dtype: int64"
      ]
     },
     "execution_count": 23,
     "metadata": {},
     "output_type": "execute_result"
    }
   ],
   "source": [
    "#see distribution of ult black users vs not \n",
    "ult.ultimate_black_user.value_counts()"
   ]
  },
  {
   "cell_type": "code",
   "execution_count": 24,
   "metadata": {},
   "outputs": [
    {
     "name": "stdout",
     "output_type": "stream",
     "text": [
      "2014-01-31 00:00:00\n",
      "2014-01-01 00:00:00\n",
      "6\n",
      "0\n"
     ]
    }
   ],
   "source": [
    "#measure max and min for sign up and determine when signups happen\n",
    "print(ult.signup_date.max())\n",
    "print(ult.signup_date.min())\n",
    "print(ult.signup_date.dt.dayofweek.max())\n",
    "print(ult.signup_date.dt.dayofweek.min())"
   ]
  },
  {
   "cell_type": "code",
   "execution_count": 25,
   "metadata": {},
   "outputs": [
    {
     "name": "stdout",
     "output_type": "stream",
     "text": [
      "2014-07-01 00:00:00\n",
      "2014-01-01 00:00:00\n"
     ]
    }
   ],
   "source": [
    "#measure max and min for last trip\n",
    "print(ult.last_trip_date.max())\n",
    "print(ult.last_trip_date.min())"
   ]
  },
  {
   "cell_type": "markdown",
   "metadata": {},
   "source": [
    "### Interesting time-series trends/findings: all sign-ups occured in the month of January.  Also, the last trip was taken on July 1, 2014 while first trip was taken on Jan 1, 2014.  Most sign-ups occured on Sundays and the least sign-ups occured on Mondays.  Also the majority of Ultimate users live in Winterfell and finally, 38% of users are Ultimate_black_users.  "
   ]
  },
  {
   "cell_type": "code",
   "execution_count": 26,
   "metadata": {},
   "outputs": [
    {
     "name": "stdout",
     "output_type": "stream",
     "text": [
      "   avg_dist  avg_rating_by_driver  avg_rating_of_driver  avg_surge  \\\n",
      "0      3.67                   5.0                   4.7       1.10   \n",
      "1      8.26                   5.0                   5.0       1.00   \n",
      "2      0.77                   5.0                   4.3       1.00   \n",
      "3      2.36                   4.9                   4.6       1.14   \n",
      "4      3.13                   4.9                   4.4       1.19   \n",
      "\n",
      "             city last_trip_date    phone signup_date  surge_pct  \\\n",
      "0  King's Landing     2014-06-17   iPhone  2014-01-25       15.4   \n",
      "1         Astapor     2014-05-05  Android  2014-01-29        0.0   \n",
      "2         Astapor     2014-01-07   iPhone  2014-01-06        0.0   \n",
      "3  King's Landing     2014-06-29   iPhone  2014-01-10       20.0   \n",
      "4      Winterfell     2014-03-15  Android  2014-01-27       11.8   \n",
      "\n",
      "   trips_in_first_30_days  ultimate_black_user  weekday_pct  Astapor  \\\n",
      "0                       4                 True         46.2        0   \n",
      "1                       0                False         50.0        1   \n",
      "2                       3                False        100.0        1   \n",
      "3                       9                 True         80.0        0   \n",
      "4                      14                False         82.4        0   \n",
      "\n",
      "   King's Landing  Winterfell  Android  Other  iPhone  \n",
      "0               1           0        0      0       1  \n",
      "1               0           0        1      0       0  \n",
      "2               0           0        0      0       1  \n",
      "3               1           0        0      0       1  \n",
      "4               0           1        1      0       0  \n"
     ]
    }
   ],
   "source": [
    "#create dummy variables for two categorical columns\n",
    "cities = pd.get_dummies(ult['city'])\n",
    "phones = pd.get_dummies(ult['phone'])\n",
    "#concat new columns to orginial data frame\n",
    "ult_cat = pd.concat([ult, cities, phones], axis=1)\n",
    "print(ult_cat.head())"
   ]
  },
  {
   "cell_type": "code",
   "execution_count": 27,
   "metadata": {},
   "outputs": [
    {
     "data": {
      "text/html": [
       "<div>\n",
       "<style scoped>\n",
       "    .dataframe tbody tr th:only-of-type {\n",
       "        vertical-align: middle;\n",
       "    }\n",
       "\n",
       "    .dataframe tbody tr th {\n",
       "        vertical-align: top;\n",
       "    }\n",
       "\n",
       "    .dataframe thead th {\n",
       "        text-align: right;\n",
       "    }\n",
       "</style>\n",
       "<table border=\"1\" class=\"dataframe\">\n",
       "  <thead>\n",
       "    <tr style=\"text-align: right;\">\n",
       "      <th></th>\n",
       "      <th>avg_dist</th>\n",
       "      <th>avg_rating_by_driver</th>\n",
       "      <th>avg_rating_of_driver</th>\n",
       "      <th>avg_surge</th>\n",
       "      <th>last_trip_date</th>\n",
       "      <th>signup_date</th>\n",
       "      <th>surge_pct</th>\n",
       "      <th>trips_in_first_30_days</th>\n",
       "      <th>ultimate_black_user</th>\n",
       "      <th>weekday_pct</th>\n",
       "      <th>Astapor</th>\n",
       "      <th>King's Landing</th>\n",
       "      <th>Winterfell</th>\n",
       "      <th>Android</th>\n",
       "      <th>Other</th>\n",
       "      <th>iPhone</th>\n",
       "    </tr>\n",
       "  </thead>\n",
       "  <tbody>\n",
       "    <tr>\n",
       "      <th>0</th>\n",
       "      <td>3.67</td>\n",
       "      <td>5.0</td>\n",
       "      <td>4.7</td>\n",
       "      <td>1.10</td>\n",
       "      <td>2014-06-17</td>\n",
       "      <td>2014-01-25</td>\n",
       "      <td>15.4</td>\n",
       "      <td>4</td>\n",
       "      <td>True</td>\n",
       "      <td>46.2</td>\n",
       "      <td>0</td>\n",
       "      <td>1</td>\n",
       "      <td>0</td>\n",
       "      <td>0</td>\n",
       "      <td>0</td>\n",
       "      <td>1</td>\n",
       "    </tr>\n",
       "    <tr>\n",
       "      <th>1</th>\n",
       "      <td>8.26</td>\n",
       "      <td>5.0</td>\n",
       "      <td>5.0</td>\n",
       "      <td>1.00</td>\n",
       "      <td>2014-05-05</td>\n",
       "      <td>2014-01-29</td>\n",
       "      <td>0.0</td>\n",
       "      <td>0</td>\n",
       "      <td>False</td>\n",
       "      <td>50.0</td>\n",
       "      <td>1</td>\n",
       "      <td>0</td>\n",
       "      <td>0</td>\n",
       "      <td>1</td>\n",
       "      <td>0</td>\n",
       "      <td>0</td>\n",
       "    </tr>\n",
       "    <tr>\n",
       "      <th>2</th>\n",
       "      <td>0.77</td>\n",
       "      <td>5.0</td>\n",
       "      <td>4.3</td>\n",
       "      <td>1.00</td>\n",
       "      <td>2014-01-07</td>\n",
       "      <td>2014-01-06</td>\n",
       "      <td>0.0</td>\n",
       "      <td>3</td>\n",
       "      <td>False</td>\n",
       "      <td>100.0</td>\n",
       "      <td>1</td>\n",
       "      <td>0</td>\n",
       "      <td>0</td>\n",
       "      <td>0</td>\n",
       "      <td>0</td>\n",
       "      <td>1</td>\n",
       "    </tr>\n",
       "    <tr>\n",
       "      <th>3</th>\n",
       "      <td>2.36</td>\n",
       "      <td>4.9</td>\n",
       "      <td>4.6</td>\n",
       "      <td>1.14</td>\n",
       "      <td>2014-06-29</td>\n",
       "      <td>2014-01-10</td>\n",
       "      <td>20.0</td>\n",
       "      <td>9</td>\n",
       "      <td>True</td>\n",
       "      <td>80.0</td>\n",
       "      <td>0</td>\n",
       "      <td>1</td>\n",
       "      <td>0</td>\n",
       "      <td>0</td>\n",
       "      <td>0</td>\n",
       "      <td>1</td>\n",
       "    </tr>\n",
       "    <tr>\n",
       "      <th>4</th>\n",
       "      <td>3.13</td>\n",
       "      <td>4.9</td>\n",
       "      <td>4.4</td>\n",
       "      <td>1.19</td>\n",
       "      <td>2014-03-15</td>\n",
       "      <td>2014-01-27</td>\n",
       "      <td>11.8</td>\n",
       "      <td>14</td>\n",
       "      <td>False</td>\n",
       "      <td>82.4</td>\n",
       "      <td>0</td>\n",
       "      <td>0</td>\n",
       "      <td>1</td>\n",
       "      <td>1</td>\n",
       "      <td>0</td>\n",
       "      <td>0</td>\n",
       "    </tr>\n",
       "  </tbody>\n",
       "</table>\n",
       "</div>"
      ],
      "text/plain": [
       "   avg_dist  avg_rating_by_driver  avg_rating_of_driver  avg_surge  \\\n",
       "0      3.67                   5.0                   4.7       1.10   \n",
       "1      8.26                   5.0                   5.0       1.00   \n",
       "2      0.77                   5.0                   4.3       1.00   \n",
       "3      2.36                   4.9                   4.6       1.14   \n",
       "4      3.13                   4.9                   4.4       1.19   \n",
       "\n",
       "  last_trip_date signup_date  surge_pct  trips_in_first_30_days  \\\n",
       "0     2014-06-17  2014-01-25       15.4                       4   \n",
       "1     2014-05-05  2014-01-29        0.0                       0   \n",
       "2     2014-01-07  2014-01-06        0.0                       3   \n",
       "3     2014-06-29  2014-01-10       20.0                       9   \n",
       "4     2014-03-15  2014-01-27       11.8                      14   \n",
       "\n",
       "   ultimate_black_user  weekday_pct  Astapor  King's Landing  Winterfell  \\\n",
       "0                 True         46.2        0               1           0   \n",
       "1                False         50.0        1               0           0   \n",
       "2                False        100.0        1               0           0   \n",
       "3                 True         80.0        0               1           0   \n",
       "4                False         82.4        0               0           1   \n",
       "\n",
       "   Android  Other  iPhone  \n",
       "0        0      0       1  \n",
       "1        1      0       0  \n",
       "2        0      0       1  \n",
       "3        0      0       1  \n",
       "4        1      0       0  "
      ]
     },
     "execution_count": 27,
     "metadata": {},
     "output_type": "execute_result"
    }
   ],
   "source": [
    "#drop city and phone due to string values\n",
    "ult_cat.drop(['city','phone'], axis=1, inplace=True)\n",
    "ult_cat.head()"
   ]
  },
  {
   "cell_type": "code",
   "execution_count": 28,
   "metadata": {},
   "outputs": [
    {
     "data": {
      "text/html": [
       "<div>\n",
       "<style scoped>\n",
       "    .dataframe tbody tr th:only-of-type {\n",
       "        vertical-align: middle;\n",
       "    }\n",
       "\n",
       "    .dataframe tbody tr th {\n",
       "        vertical-align: top;\n",
       "    }\n",
       "\n",
       "    .dataframe thead th {\n",
       "        text-align: right;\n",
       "    }\n",
       "</style>\n",
       "<table border=\"1\" class=\"dataframe\">\n",
       "  <thead>\n",
       "    <tr style=\"text-align: right;\">\n",
       "      <th></th>\n",
       "      <th>avg_dist</th>\n",
       "      <th>avg_rating_by_driver</th>\n",
       "      <th>avg_rating_of_driver</th>\n",
       "      <th>avg_surge</th>\n",
       "      <th>last_trip_date</th>\n",
       "      <th>signup_date</th>\n",
       "      <th>surge_pct</th>\n",
       "      <th>trips_in_first_30_days</th>\n",
       "      <th>ultimate_black_user</th>\n",
       "      <th>weekday_pct</th>\n",
       "      <th>Astapor</th>\n",
       "      <th>King's Landing</th>\n",
       "      <th>Winterfell</th>\n",
       "      <th>Android</th>\n",
       "      <th>Other</th>\n",
       "      <th>iPhone</th>\n",
       "    </tr>\n",
       "  </thead>\n",
       "  <tbody>\n",
       "    <tr>\n",
       "      <th>0</th>\n",
       "      <td>3.67</td>\n",
       "      <td>5.0</td>\n",
       "      <td>4.7</td>\n",
       "      <td>1.10</td>\n",
       "      <td>2014-06-17</td>\n",
       "      <td>2014-01-25</td>\n",
       "      <td>15.4</td>\n",
       "      <td>4</td>\n",
       "      <td>1</td>\n",
       "      <td>46.2</td>\n",
       "      <td>0</td>\n",
       "      <td>1</td>\n",
       "      <td>0</td>\n",
       "      <td>0</td>\n",
       "      <td>0</td>\n",
       "      <td>1</td>\n",
       "    </tr>\n",
       "    <tr>\n",
       "      <th>1</th>\n",
       "      <td>8.26</td>\n",
       "      <td>5.0</td>\n",
       "      <td>5.0</td>\n",
       "      <td>1.00</td>\n",
       "      <td>2014-05-05</td>\n",
       "      <td>2014-01-29</td>\n",
       "      <td>0.0</td>\n",
       "      <td>0</td>\n",
       "      <td>0</td>\n",
       "      <td>50.0</td>\n",
       "      <td>1</td>\n",
       "      <td>0</td>\n",
       "      <td>0</td>\n",
       "      <td>1</td>\n",
       "      <td>0</td>\n",
       "      <td>0</td>\n",
       "    </tr>\n",
       "    <tr>\n",
       "      <th>2</th>\n",
       "      <td>0.77</td>\n",
       "      <td>5.0</td>\n",
       "      <td>4.3</td>\n",
       "      <td>1.00</td>\n",
       "      <td>2014-01-07</td>\n",
       "      <td>2014-01-06</td>\n",
       "      <td>0.0</td>\n",
       "      <td>3</td>\n",
       "      <td>0</td>\n",
       "      <td>100.0</td>\n",
       "      <td>1</td>\n",
       "      <td>0</td>\n",
       "      <td>0</td>\n",
       "      <td>0</td>\n",
       "      <td>0</td>\n",
       "      <td>1</td>\n",
       "    </tr>\n",
       "    <tr>\n",
       "      <th>3</th>\n",
       "      <td>2.36</td>\n",
       "      <td>4.9</td>\n",
       "      <td>4.6</td>\n",
       "      <td>1.14</td>\n",
       "      <td>2014-06-29</td>\n",
       "      <td>2014-01-10</td>\n",
       "      <td>20.0</td>\n",
       "      <td>9</td>\n",
       "      <td>1</td>\n",
       "      <td>80.0</td>\n",
       "      <td>0</td>\n",
       "      <td>1</td>\n",
       "      <td>0</td>\n",
       "      <td>0</td>\n",
       "      <td>0</td>\n",
       "      <td>1</td>\n",
       "    </tr>\n",
       "    <tr>\n",
       "      <th>4</th>\n",
       "      <td>3.13</td>\n",
       "      <td>4.9</td>\n",
       "      <td>4.4</td>\n",
       "      <td>1.19</td>\n",
       "      <td>2014-03-15</td>\n",
       "      <td>2014-01-27</td>\n",
       "      <td>11.8</td>\n",
       "      <td>14</td>\n",
       "      <td>0</td>\n",
       "      <td>82.4</td>\n",
       "      <td>0</td>\n",
       "      <td>0</td>\n",
       "      <td>1</td>\n",
       "      <td>1</td>\n",
       "      <td>0</td>\n",
       "      <td>0</td>\n",
       "    </tr>\n",
       "  </tbody>\n",
       "</table>\n",
       "</div>"
      ],
      "text/plain": [
       "   avg_dist  avg_rating_by_driver  avg_rating_of_driver  avg_surge  \\\n",
       "0      3.67                   5.0                   4.7       1.10   \n",
       "1      8.26                   5.0                   5.0       1.00   \n",
       "2      0.77                   5.0                   4.3       1.00   \n",
       "3      2.36                   4.9                   4.6       1.14   \n",
       "4      3.13                   4.9                   4.4       1.19   \n",
       "\n",
       "  last_trip_date signup_date  surge_pct  trips_in_first_30_days  \\\n",
       "0     2014-06-17  2014-01-25       15.4                       4   \n",
       "1     2014-05-05  2014-01-29        0.0                       0   \n",
       "2     2014-01-07  2014-01-06        0.0                       3   \n",
       "3     2014-06-29  2014-01-10       20.0                       9   \n",
       "4     2014-03-15  2014-01-27       11.8                      14   \n",
       "\n",
       "   ultimate_black_user  weekday_pct  Astapor  King's Landing  Winterfell  \\\n",
       "0                    1         46.2        0               1           0   \n",
       "1                    0         50.0        1               0           0   \n",
       "2                    0        100.0        1               0           0   \n",
       "3                    1         80.0        0               1           0   \n",
       "4                    0         82.4        0               0           1   \n",
       "\n",
       "   Android  Other  iPhone  \n",
       "0        0      0       1  \n",
       "1        1      0       0  \n",
       "2        0      0       1  \n",
       "3        0      0       1  \n",
       "4        1      0       0  "
      ]
     },
     "execution_count": 28,
     "metadata": {},
     "output_type": "execute_result"
    }
   ],
   "source": [
    "#convert true false to numeric boolean\n",
    "ult_cat['ultimate_black_user'] = ult_cat['ultimate_black_user'].astype('int')\n",
    "ult_cat.head()"
   ]
  },
  {
   "cell_type": "code",
   "execution_count": 29,
   "metadata": {},
   "outputs": [
    {
     "data": {
      "text/plain": [
       "Index(['avg_dist', 'avg_rating_by_driver', 'avg_rating_of_driver', 'avg_surge',\n",
       "       'surge_pct', 'trips_in_first_30_days', 'ultimate_black_user',\n",
       "       'weekday_pct', 'Astapor', 'King's Landing', 'Winterfell', 'Android',\n",
       "       'Other', 'iPhone'],\n",
       "      dtype='object')"
      ]
     },
     "execution_count": 29,
     "metadata": {},
     "output_type": "execute_result"
    }
   ],
   "source": [
    "#drop non-numerical columns before beginning sci-kit learn\n",
    "ult_cat.drop(['last_trip_date','signup_date'], axis=1, inplace=True)\n",
    "ult_cat.columns"
   ]
  },
  {
   "cell_type": "code",
   "execution_count": 30,
   "metadata": {},
   "outputs": [],
   "source": [
    "#import packages to be implemented\n",
    "from sklearn.preprocessing import StandardScaler\n",
    "from sklearn.pipeline import Pipeline\n",
    "from sklearn.ensemble import GradientBoostingRegressor"
   ]
  },
  {
   "cell_type": "code",
   "execution_count": 31,
   "metadata": {},
   "outputs": [
    {
     "data": {
      "text/plain": [
       "SelectFromModel(estimator=GradientBoostingRegressor(alpha=0.9,\n",
       "                                                    criterion='friedman_mse',\n",
       "                                                    init=None,\n",
       "                                                    learning_rate=0.1,\n",
       "                                                    loss='ls', max_depth=3,\n",
       "                                                    max_features=None,\n",
       "                                                    max_leaf_nodes=None,\n",
       "                                                    min_impurity_decrease=0.0,\n",
       "                                                    min_impurity_split=None,\n",
       "                                                    min_samples_leaf=1,\n",
       "                                                    min_samples_split=2,\n",
       "                                                    min_weight_fraction_leaf=0.0,\n",
       "                                                    n_estimators=100,\n",
       "                                                    n_iter_no_change=None,\n",
       "                                                    presort='auto',\n",
       "                                                    random_state=None,\n",
       "                                                    subsample=1.0, tol=0.0001,\n",
       "                                                    validation_fraction=0.1,\n",
       "                                                    verbose=0,\n",
       "                                                    warm_start=False),\n",
       "                max_features=None, norm_order=1, prefit=False, threshold=0.05)"
      ]
     },
     "execution_count": 31,
     "metadata": {},
     "output_type": "execute_result"
    }
   ],
   "source": [
    "#before beginning algorithm, determine if correct feaures have been chosen\n",
    "from sklearn.feature_selection import SelectFromModel\n",
    "grad =  GradientBoostingRegressor()\n",
    "y1 = ult_cat['avg_dist']\n",
    "X1 = ult_cat.drop('avg_dist', axis=1)\n",
    "sel = SelectFromModel(grad, threshold=0.05)\n",
    "sel.fit(X1,y1)"
   ]
  },
  {
   "cell_type": "code",
   "execution_count": 32,
   "metadata": {},
   "outputs": [
    {
     "name": "stdout",
     "output_type": "stream",
     "text": [
      "Index(['avg_rating_by_driver', 'surge_pct', 'trips_in_first_30_days',\n",
      "       'ultimate_black_user', 'weekday_pct'],\n",
      "      dtype='object')\n"
     ]
    }
   ],
   "source": [
    "sel.get_support(indices=True)\n",
    "selected_feat=X1.columns[(sel.get_support())]\n",
    "len(selected_feat)\n",
    "print(selected_feat)"
   ]
  },
  {
   "cell_type": "code",
   "execution_count": 33,
   "metadata": {},
   "outputs": [],
   "source": [
    "y = ult_cat['avg_dist'].as_matrix()\n",
    "X = ult_cat.drop([\"avg_dist\", \"avg_rating_of_driver\", \"avg_surge\", \"Astapor\", \"King's Landing\", \"Winterfell\", \"Android\",\"Other\", \"iPhone\"], axis=1)\n",
    "X = X.as_matrix()"
   ]
  },
  {
   "cell_type": "code",
   "execution_count": 34,
   "metadata": {},
   "outputs": [
    {
     "name": "stdout",
     "output_type": "stream",
     "text": [
      "<class 'numpy.ndarray'>\n",
      "<class 'numpy.ndarray'>\n"
     ]
    }
   ],
   "source": [
    "#make sure that both X and y are numpy arrays\n",
    "print(type(X))\n",
    "print(type(y))"
   ]
  },
  {
   "cell_type": "code",
   "execution_count": 35,
   "metadata": {},
   "outputs": [
    {
     "name": "stdout",
     "output_type": "stream",
     "text": [
      "{'n_estimators': 100, 'random_state': 5}\n",
      "0.0799767572409\n"
     ]
    }
   ],
   "source": [
    "#create parameter grid to tune hyperparameters in gradient boosting regressor\n",
    "from sklearn.model_selection import GridSearchCV\n",
    "param_grid = {'random_state': [0,5],'n_estimators': [1,100]}\n",
    "grad_cv = GridSearchCV(grad,param_grid,cv=10)\n",
    "grad_cv.fit(X,y)\n",
    "print(grad_cv.best_params_)\n",
    "print(grad_cv.best_score_)"
   ]
  },
  {
   "cell_type": "code",
   "execution_count": 36,
   "metadata": {},
   "outputs": [
    {
     "name": "stdout",
     "output_type": "stream",
     "text": [
      "(35000, 5) (15000, 5) (35000,) (15000,)\n"
     ]
    }
   ],
   "source": [
    "from sklearn.model_selection import train_test_split\n",
    "grad =  GradientBoostingRegressor(n_estimators = 100, random_state= 5)\n",
    "X_train, X_test, y_train, y_test = train_test_split(X,y,train_size = 0.7,random_state=42)\n",
    "grad.fit(X_train,y_train)\n",
    "print(X_train.shape, X_test.shape, y_train.shape, y_test.shape)"
   ]
  },
  {
   "cell_type": "code",
   "execution_count": 37,
   "metadata": {},
   "outputs": [
    {
     "name": "stdout",
     "output_type": "stream",
     "text": [
      "Cross-validation scores: [ 0.08056971  0.08368862  0.07887446  0.07899596  0.07639209  0.08236725\n",
      "  0.08649177  0.07147755  0.08058189  0.08032829]\n",
      "Average cross-validation score: 0.08\n",
      "accuracy on the training subset:0.0855\n",
      "accuracy on the test subset:0.0773\n"
     ]
    }
   ],
   "source": [
    "#compare cross val score, training subset score and testing subset score\n",
    "from sklearn.model_selection import cross_val_score\n",
    "from scipy import stats\n",
    "scores = cross_val_score(grad, X, y, cv=10)\n",
    "print(\"Cross-validation scores: {}\".format(scores))\n",
    "print(\"Average cross-validation score: {:.2f}\".format(scores.mean()))\n",
    "print(\"accuracy on the training subset:{:.4f}\".format(grad.score(X_train,y_train)))\n",
    "print(\"accuracy on the test subset:{:.4f}\".format(grad.score(X_test,y_test)))"
   ]
  },
  {
   "cell_type": "code",
   "execution_count": 38,
   "metadata": {},
   "outputs": [
    {
     "name": "stdout",
     "output_type": "stream",
     "text": [
      "score: 0.07730870812267454\n"
     ]
    }
   ],
   "source": [
    "#scale the data and apply pipeline to see if that improves the model\n",
    "both = [('scale', StandardScaler()), ('grad_scale', GradientBoostingRegressor())]\n",
    "pipe_grad = Pipeline(both)\n",
    "pipe_grad.fit(X_train,y_train)\n",
    "y_pred_grad = pipe_grad.predict(X_test)\n",
    "print(\"score: {}\".format(pipe_grad.score(X_test,y_test)))"
   ]
  },
  {
   "cell_type": "markdown",
   "metadata": {},
   "source": [
    "### Although the machine learning model was very weak the feature selections were valuable and the conclusions that were arrived at were that an increase in weekday usage, an increase in ultimate users, and an increase in trips taken in the first 30 days will also increase the average distance the ultimate driver drives and thereby increase the driver's total revenue.  In addition, the features of good driver ratings and the driver's surge percentage will also greatly influence the average distance an ultimate driver drives. Further data would be needed in this dataset to show that reimbursing tolls would increase weekday usage and thus be an incentive to ultimate drivers. "
   ]
  },
  {
   "cell_type": "markdown",
   "metadata": {},
   "source": [
    "## Question 3: We consider a user retained if they were “active” (i.e. took a trip) in the preceding 30 days. We would like you to use this data set to help understand what factors are the best predictors for retention, and offer suggestions to operationalize those insights to help Ultimate. What fraction of the observed users were retained? Briefly discuss how Ultimate might leverage the insights gained to improve its long term rider retention."
   ]
  },
  {
   "cell_type": "code",
   "execution_count": 39,
   "metadata": {},
   "outputs": [
    {
     "ename": "RuntimeError",
     "evalue": "module compiled against API version 0xc but this version of numpy is 0xb",
     "output_type": "error",
     "traceback": [
      "\u001b[1;31m---------------------------------------------------------------------------\u001b[0m",
      "\u001b[1;31mRuntimeError\u001b[0m                              Traceback (most recent call last)",
      "\u001b[1;31mRuntimeError\u001b[0m: module compiled against API version 0xc but this version of numpy is 0xb"
     ]
    },
    {
     "data": {
      "image/png": "[encoded data removed]",
      "text/plain": [
       "<Figure size 432x288 with 2 Axes>"
      ]
     },
     "metadata": {},
     "output_type": "display_data"
    }
   ],
   "source": [
    "#plot correlation heatmap to look for trends\n",
    "import seaborn as sns\n",
    "sns.set()\n",
    "fig = plt.figure()\n",
    "ax = plt.subplot()\n",
    "corr = ult.corr()\n",
    "ax.set_title(\"CORRELATION_HEAT_MAP\")\n",
    "ax = sns.heatmap(corr)\n",
    "plt.show()"
   ]
  },
  {
   "cell_type": "markdown",
   "metadata": {},
   "source": [
    "### Trends seen:1.)Heatmap shows correlation between ave surge and surge percentage. 2.) Heatmap shows negative correlation between surge and weekday percent which indicates surge occurs on weekends  in accordance to supply and demand. 2.) Heatmap shows a correlation between retained users and ultimate_black_ users.  3.)Heatmap shows riders taking trips on weekdays are more likely to be retained users.  4.)Heatmap shows a negative correlation between average distance and trips in first 30 days which indicates retained users that are taking more ultimate trips are taking short distance trips.  This last trend may indicate why the previous machine learning model was weak since increasing avg dist does not correlate with more retained users.  "
   ]
  },
  {
   "cell_type": "code",
   "execution_count": 40,
   "metadata": {},
   "outputs": [
    {
     "data": {
      "text/plain": [
       "Index(['avg_dist', 'avg_rating_by_driver', 'avg_rating_of_driver', 'avg_surge',\n",
       "       'city', 'last_trip_date', 'phone', 'signup_date', 'surge_pct',\n",
       "       'trips_in_first_30_days', 'ultimate_black_user', 'weekday_pct'],\n",
       "      dtype='object')"
      ]
     },
     "execution_count": 40,
     "metadata": {},
     "output_type": "execute_result"
    }
   ],
   "source": [
    "#get column names\n",
    "ult.columns"
   ]
  },
  {
   "cell_type": "code",
   "execution_count": 41,
   "metadata": {},
   "outputs": [
    {
     "data": {
      "text/plain": [
       "(array([ -20.,    0.,   20.,   40.,   60.,   80.,  100.,  120.,  140.]),\n",
       " <a list of 9 Text xticklabel objects>)"
      ]
     },
     "execution_count": 41,
     "metadata": {},
     "output_type": "execute_result"
    },
    {
     "data": {
      "image/png": "[encoded data removed]",
      "text/plain": [
       "<Figure size 432x288 with 1 Axes>"
      ]
     },
     "metadata": {},
     "output_type": "display_data"
    }
   ],
   "source": [
    "#take a look at relationship between signup date and trips within 30 days\n",
    "ult = ult.sort_values('last_trip_date', ascending = True)\n",
    "plt.plot(ult['trips_in_first_30_days'],ult['last_trip_date'])\n",
    "plt.xticks(rotation = 'vertical')"
   ]
  },
  {
   "cell_type": "code",
   "execution_count": 42,
   "metadata": {},
   "outputs": [
    {
     "data": {
      "text/plain": [
       "<matplotlib.axes._subplots.AxesSubplot at 0x23f5eaa5f28>"
      ]
     },
     "execution_count": 42,
     "metadata": {},
     "output_type": "execute_result"
    },
    {
     "data": {
      "image/png": "[encoded data removed]",
      "text/plain": [
       "<Figure size 432x288 with 1 Axes>"
      ]
     },
     "metadata": {},
     "output_type": "display_data"
    }
   ],
   "source": [
    "ult.signup_date.value_counts(ascending=True).plot()"
   ]
  },
  {
   "cell_type": "markdown",
   "metadata": {},
   "source": [
    "### Trends seen: The majority of sign-ups took place on 1/18 and 1/25.  Those riders who had trips in the first 30 days (retained users), were riders who had their last trip in March and in July.  This shows that there are many retained users since the majority of last trip dates are in July.   What this indicates is that there are many users that were lost in March and thus only were Ultimate riders for January and February. "
   ]
  },
  {
   "cell_type": "code",
   "execution_count": 43,
   "metadata": {},
   "outputs": [
    {
     "data": {
      "text/plain": [
       "63         1\n",
       "51         1\n",
       "50         1\n",
       "41         1\n",
       "71         1\n",
       "58         1\n",
       "73         1\n",
       "125        1\n",
       "35         2\n",
       "49         2\n",
       "48         2\n",
       "54         2\n",
       "56         2\n",
       "55         2\n",
       "53         2\n",
       "39         3\n",
       "36         3\n",
       "42         3\n",
       "47         3\n",
       "43         4\n",
       "38         4\n",
       "40         5\n",
       "44         5\n",
       "31         6\n",
       "32         8\n",
       "37         9\n",
       "33         9\n",
       "29         9\n",
       "34        11\n",
       "30        15\n",
       "26        19\n",
       "25        20\n",
       "28        21\n",
       "27        28\n",
       "24        33\n",
       "22        34\n",
       "21        40\n",
       "23        45\n",
       "20        51\n",
       "19        69\n",
       "18        80\n",
       "16       108\n",
       "17       113\n",
       "14       147\n",
       "15       155\n",
       "13       168\n",
       "12       221\n",
       "11       301\n",
       "10       349\n",
       "9        471\n",
       "8        589\n",
       "7        819\n",
       "6       1134\n",
       "5       1616\n",
       "4       2562\n",
       "3       3788\n",
       "2       7402\n",
       "1      14108\n",
       "0      15390\n",
       "Name: trips_in_first_30_days, dtype: int64"
      ]
     },
     "execution_count": 43,
     "metadata": {},
     "output_type": "execute_result"
    }
   ],
   "source": [
    "#find precentage of users that have not taken trips in first 30 days\n",
    "ult.trips_in_first_30_days.value_counts(ascending=True)"
   ]
  },
  {
   "cell_type": "markdown",
   "metadata": {},
   "source": [
    "### 30% of all users are not retained users. And the majority of those not retained users fall in the category of users whose rides took place in January and February but ended in March.  "
   ]
  },
  {
   "cell_type": "code",
   "execution_count": 44,
   "metadata": {},
   "outputs": [],
   "source": [
    "#create column for retained users in order to find any trends of retained users\n",
    "ts = pd.to_datetime('3/1/2014')\n",
    "ult['retained'] = ult.last_trip_date >= ts"
   ]
  },
  {
   "cell_type": "code",
   "execution_count": 45,
   "metadata": {},
   "outputs": [
    {
     "data": {
      "text/plain": [
       "retained                  1.000000\n",
       "ultimate_black_user       0.110296\n",
       "trips_in_first_30_days    0.075334\n",
       "weekday_pct               0.010641\n",
       "surge_pct                -0.006379\n",
       "avg_rating_of_driver     -0.014353\n",
       "avg_surge                -0.020886\n",
       "avg_rating_by_driver     -0.028702\n",
       "avg_dist                 -0.088013\n",
       "Name: retained, dtype: float64"
      ]
     },
     "execution_count": 45,
     "metadata": {},
     "output_type": "execute_result"
    }
   ],
   "source": [
    "#look at correlation of all features with retained users to find trends\n",
    "ult.corr()['retained'].sort_values(ascending=False)"
   ]
  },
  {
   "cell_type": "markdown",
   "metadata": {},
   "source": [
    "### •This shows that retained users are correlated with ultimate_black_users and that retained users are correlated with weekday usage. \n",
    "### •There is also a negative correlation with distance indicating that most retained users are taking short trips.  Some theories on this could be that retained users are taking short trips to and from work on weekdays.  \n",
    "### •There is also a negative correlation with surge pricing indicating that there are less retained users when surge prices are high.  In our earler data exploration above we saw that the majority of rides take place on the weekend(20% per day on weekends vs 12% per day on weekdays). We also saw that surge prices are higher on weekends.  \n",
    "### •It seems that since the majority of retained users are on weekdays, reimbusing drivers for toll fees could potentially increase the weekday users even further. By reimbursing the toll fees for Ultimate drivers, we may also see weekday customers riding longer distances instead of only attracting those employees traveling short distances.   •Since there is a negative correlation between surge prices and retained users and a positive correlation between surge prices and the weekend as well as a positive correlation between ultimate_black_users and retained users, one incentive that could increase weekend retained users would be to give discounts on surge prices to ultimate_black_users.  "
   ]
  },
  {
   "cell_type": "code",
   "execution_count": 47,
   "metadata": {},
   "outputs": [
    {
     "name": "stdout",
     "output_type": "stream",
     "text": [
      "<class 'pandas.core.frame.DataFrame'>\n",
      "Int64Index: 50000 entries, 31425 to 45357\n",
      "Data columns (total 13 columns):\n",
      "avg_dist                  50000 non-null float64\n",
      "avg_rating_by_driver      50000 non-null float64\n",
      "avg_rating_of_driver      50000 non-null float64\n",
      "avg_surge                 50000 non-null float64\n",
      "city                      50000 non-null object\n",
      "last_trip_date            50000 non-null datetime64[ns]\n",
      "phone                     50000 non-null object\n",
      "signup_date               50000 non-null datetime64[ns]\n",
      "surge_pct                 50000 non-null float64\n",
      "trips_in_first_30_days    50000 non-null int64\n",
      "ultimate_black_user       50000 non-null bool\n",
      "weekday_pct               50000 non-null float64\n",
      "retained                  50000 non-null bool\n",
      "dtypes: bool(2), datetime64[ns](2), float64(6), int64(1), object(2)\n",
      "memory usage: 4.7+ MB\n"
     ]
    }
   ],
   "source": [
    "ult.info()"
   ]
  },
  {
   "cell_type": "code",
   "execution_count": 48,
   "metadata": {},
   "outputs": [
    {
     "data": {
      "text/html": [
       "<div>\n",
       "<style scoped>\n",
       "    .dataframe tbody tr th:only-of-type {\n",
       "        vertical-align: middle;\n",
       "    }\n",
       "\n",
       "    .dataframe tbody tr th {\n",
       "        vertical-align: top;\n",
       "    }\n",
       "\n",
       "    .dataframe thead th {\n",
       "        text-align: right;\n",
       "    }\n",
       "</style>\n",
       "<table border=\"1\" class=\"dataframe\">\n",
       "  <thead>\n",
       "    <tr style=\"text-align: right;\">\n",
       "      <th></th>\n",
       "      <th>avg_dist</th>\n",
       "      <th>avg_rating_by_driver</th>\n",
       "      <th>avg_rating_of_driver</th>\n",
       "      <th>avg_surge</th>\n",
       "      <th>last_trip_date</th>\n",
       "      <th>signup_date</th>\n",
       "      <th>surge_pct</th>\n",
       "      <th>trips_in_first_30_days</th>\n",
       "      <th>ultimate_black_user</th>\n",
       "      <th>weekday_pct</th>\n",
       "      <th>retained</th>\n",
       "      <th>Astapor</th>\n",
       "      <th>King's Landing</th>\n",
       "      <th>Winterfell</th>\n",
       "      <th>Android</th>\n",
       "      <th>Other</th>\n",
       "      <th>iPhone</th>\n",
       "    </tr>\n",
       "  </thead>\n",
       "  <tbody>\n",
       "    <tr>\n",
       "      <th>31425</th>\n",
       "      <td>4.31</td>\n",
       "      <td>5.0</td>\n",
       "      <td>4.601559</td>\n",
       "      <td>1.00</td>\n",
       "      <td>1</td>\n",
       "      <td>1</td>\n",
       "      <td>0.0</td>\n",
       "      <td>1</td>\n",
       "      <td>0</td>\n",
       "      <td>100.0</td>\n",
       "      <td>0</td>\n",
       "      <td>0</td>\n",
       "      <td>0</td>\n",
       "      <td>1</td>\n",
       "      <td>0</td>\n",
       "      <td>0</td>\n",
       "      <td>1</td>\n",
       "    </tr>\n",
       "    <tr>\n",
       "      <th>10729</th>\n",
       "      <td>19.67</td>\n",
       "      <td>5.0</td>\n",
       "      <td>3.000000</td>\n",
       "      <td>1.00</td>\n",
       "      <td>1</td>\n",
       "      <td>1</td>\n",
       "      <td>0.0</td>\n",
       "      <td>1</td>\n",
       "      <td>0</td>\n",
       "      <td>100.0</td>\n",
       "      <td>0</td>\n",
       "      <td>0</td>\n",
       "      <td>0</td>\n",
       "      <td>1</td>\n",
       "      <td>0</td>\n",
       "      <td>0</td>\n",
       "      <td>1</td>\n",
       "    </tr>\n",
       "    <tr>\n",
       "      <th>40336</th>\n",
       "      <td>5.98</td>\n",
       "      <td>5.0</td>\n",
       "      <td>5.000000</td>\n",
       "      <td>1.00</td>\n",
       "      <td>1</td>\n",
       "      <td>1</td>\n",
       "      <td>0.0</td>\n",
       "      <td>1</td>\n",
       "      <td>0</td>\n",
       "      <td>100.0</td>\n",
       "      <td>0</td>\n",
       "      <td>0</td>\n",
       "      <td>0</td>\n",
       "      <td>1</td>\n",
       "      <td>0</td>\n",
       "      <td>0</td>\n",
       "      <td>1</td>\n",
       "    </tr>\n",
       "    <tr>\n",
       "      <th>34828</th>\n",
       "      <td>2.45</td>\n",
       "      <td>5.0</td>\n",
       "      <td>5.000000</td>\n",
       "      <td>1.25</td>\n",
       "      <td>1</td>\n",
       "      <td>1</td>\n",
       "      <td>100.0</td>\n",
       "      <td>1</td>\n",
       "      <td>0</td>\n",
       "      <td>100.0</td>\n",
       "      <td>0</td>\n",
       "      <td>1</td>\n",
       "      <td>0</td>\n",
       "      <td>0</td>\n",
       "      <td>0</td>\n",
       "      <td>0</td>\n",
       "      <td>1</td>\n",
       "    </tr>\n",
       "    <tr>\n",
       "      <th>37295</th>\n",
       "      <td>0.77</td>\n",
       "      <td>5.0</td>\n",
       "      <td>3.000000</td>\n",
       "      <td>1.00</td>\n",
       "      <td>1</td>\n",
       "      <td>1</td>\n",
       "      <td>0.0</td>\n",
       "      <td>1</td>\n",
       "      <td>0</td>\n",
       "      <td>100.0</td>\n",
       "      <td>0</td>\n",
       "      <td>0</td>\n",
       "      <td>0</td>\n",
       "      <td>1</td>\n",
       "      <td>0</td>\n",
       "      <td>0</td>\n",
       "      <td>1</td>\n",
       "    </tr>\n",
       "  </tbody>\n",
       "</table>\n",
       "</div>"
      ],
      "text/plain": [
       "       avg_dist  avg_rating_by_driver  avg_rating_of_driver  avg_surge  \\\n",
       "31425      4.31                   5.0              4.601559       1.00   \n",
       "10729     19.67                   5.0              3.000000       1.00   \n",
       "40336      5.98                   5.0              5.000000       1.00   \n",
       "34828      2.45                   5.0              5.000000       1.25   \n",
       "37295      0.77                   5.0              3.000000       1.00   \n",
       "\n",
       "       last_trip_date  signup_date  surge_pct  trips_in_first_30_days  \\\n",
       "31425               1            1        0.0                       1   \n",
       "10729               1            1        0.0                       1   \n",
       "40336               1            1        0.0                       1   \n",
       "34828               1            1      100.0                       1   \n",
       "37295               1            1        0.0                       1   \n",
       "\n",
       "       ultimate_black_user  weekday_pct  retained  Astapor  King's Landing  \\\n",
       "31425                    0        100.0         0        0               0   \n",
       "10729                    0        100.0         0        0               0   \n",
       "40336                    0        100.0         0        0               0   \n",
       "34828                    0        100.0         0        1               0   \n",
       "37295                    0        100.0         0        0               0   \n",
       "\n",
       "       Winterfell  Android  Other  iPhone  \n",
       "31425           1        0      0       1  \n",
       "10729           1        0      0       1  \n",
       "40336           1        0      0       1  \n",
       "34828           0        0      0       1  \n",
       "37295           1        0      0       1  "
      ]
     },
     "execution_count": 48,
     "metadata": {},
     "output_type": "execute_result"
    }
   ],
   "source": [
    "ult['ultimate_black_user'] = ult['ultimate_black_user'].astype('int')\n",
    "ult['retained'] = ult['retained'].astype('int')\n",
    "ult.signup_date = ult.signup_date.dt.strftime('%Y%m%d').astype(int) - 20140100\n",
    "ult.last_trip_date = ult.last_trip_date.dt.strftime('%Y%m%d').astype(int) - 20140100\n",
    "#create dummy variables for two categorical columns\n",
    "cities = pd.get_dummies(ult['city'])\n",
    "phones = pd.get_dummies(ult['phone'])\n",
    "#concat new columns to orginial data frame\n",
    "ult = pd.concat([ult, cities, phones], axis=1)\n",
    "ult.drop(['city','phone'], axis=1, inplace=True)"
   ]
  },
  {
   "cell_type": "code",
   "execution_count": 49,
   "metadata": {},
   "outputs": [
    {
     "name": "stdout",
     "output_type": "stream",
     "text": [
      "<class 'pandas.core.frame.DataFrame'>\n",
      "Int64Index: 50000 entries, 31425 to 45357\n",
      "Data columns (total 17 columns):\n",
      "avg_dist                  50000 non-null float64\n",
      "avg_rating_by_driver      50000 non-null float64\n",
      "avg_rating_of_driver      50000 non-null float64\n",
      "avg_surge                 50000 non-null float64\n",
      "last_trip_date            50000 non-null int32\n",
      "signup_date               50000 non-null int32\n",
      "surge_pct                 50000 non-null float64\n",
      "trips_in_first_30_days    50000 non-null int64\n",
      "ultimate_black_user       50000 non-null int32\n",
      "weekday_pct               50000 non-null float64\n",
      "retained                  50000 non-null int32\n",
      "Astapor                   50000 non-null uint8\n",
      "King's Landing            50000 non-null uint8\n",
      "Winterfell                50000 non-null uint8\n",
      "Android                   50000 non-null uint8\n",
      "Other                     50000 non-null uint8\n",
      "iPhone                    50000 non-null uint8\n",
      "dtypes: float64(6), int32(4), int64(1), uint8(6)\n",
      "memory usage: 4.1 MB\n"
     ]
    }
   ],
   "source": [
    "ult.info()"
   ]
  },
  {
   "cell_type": "code",
   "execution_count": 50,
   "metadata": {},
   "outputs": [],
   "source": [
    "X2 = ult.drop(['retained','last_trip_date'], axis=1)\n",
    "y2 = ult['retained']"
   ]
  },
  {
   "cell_type": "code",
   "execution_count": 52,
   "metadata": {},
   "outputs": [
    {
     "name": "stdout",
     "output_type": "stream",
     "text": [
      "Accuracy: 0.8854\n",
      "[ 0.81697464  0.87624     0.84248     0.80942475]\n",
      "CV_accuracy: 0.836279849002\n"
     ]
    }
   ],
   "source": [
    "#utilize random forest classifier\n",
    "from sklearn.ensemble import RandomForestClassifier\n",
    "from sklearn import metrics\n",
    "from sklearn.model_selection import cross_val_score\n",
    "X2_train, X2_test, y2_train, y2_test = train_test_split(X2, y2, test_size=0.3, random_state=42)\n",
    "rfc=RandomForestClassifier(n_estimators=100)\n",
    "rfc.fit(X2_train,y2_train)\n",
    "y2_pred=rfc.predict(X2_test)\n",
    "print(\"Accuracy:\",metrics.accuracy_score(y2_test, y2_pred))\n",
    "score_rfc = cross_val_score(rfc, X2, y2,cv=4)\n",
    "print(score_rfc)\n",
    "print(\"CV_accuracy:\", score_rfc.mean())"
   ]
  },
  {
   "cell_type": "code",
   "execution_count": 53,
   "metadata": {},
   "outputs": [
    {
     "name": "stdout",
     "output_type": "stream",
     "text": [
      "14\n",
      "Index(['avg_dist', 'avg_rating_by_driver', 'avg_rating_of_driver', 'avg_surge',\n",
      "       'signup_date', 'surge_pct', 'trips_in_first_30_days',\n",
      "       'ultimate_black_user', 'weekday_pct', 'Astapor', 'King's Landing',\n",
      "       'Winterfell', 'Android', 'iPhone'],\n",
      "      dtype='object')\n"
     ]
    }
   ],
   "source": [
    "#check if scikit-learn feature selection improves model, then check confusion matrix\n",
    "from sklearn.feature_selection import SelectFromModel\n",
    "sel = SelectFromModel(rfc, threshold = 0.005)\n",
    "sel.fit(X2,y2)\n",
    "sel.get_support(indices=True)\n",
    "selected_feat=X2.columns[(sel.get_support())]\n",
    "print(len(selected_feat))\n",
    "print(selected_feat)"
   ]
  },
  {
   "cell_type": "code",
   "execution_count": 55,
   "metadata": {},
   "outputs": [
    {
     "name": "stdout",
     "output_type": "stream",
     "text": [
      "Accuracy: 0.886266666667\n",
      "[ 0.82417407  0.87752     0.84344     0.80902472]\n",
      "CV_accuracy: 0.838539697013\n"
     ]
    }
   ],
   "source": [
    "#do train test split\n",
    "X3 = ult.drop(['retained','last_trip_date','Other'], axis=1)\n",
    "X3_train, X3_test, y3_train, y3_test = train_test_split(X3, y2, test_size=0.3, random_state=42)\n",
    "rfc=RandomForestClassifier(n_estimators=100)\n",
    "rfc.fit(X3_train,y3_train)\n",
    "y3_pred=rfc.predict(X3_test)\n",
    "print(\"Accuracy:\",metrics.accuracy_score(y3_test, y3_pred))\n",
    "score_rfc = cross_val_score(rfc, X3, y2,cv=4)\n",
    "print(score_rfc)\n",
    "print(\"CV_accuracy:\", score_rfc.mean())"
   ]
  },
  {
   "cell_type": "code",
   "execution_count": 57,
   "metadata": {},
   "outputs": [
    {
     "name": "stdout",
     "output_type": "stream",
     "text": [
      "[[3432  941]\n",
      " [ 781 9846]]\n",
      "              precision    recall  f1-score   support\n",
      "\n",
      "           0       0.81      0.78      0.80      4373\n",
      "           1       0.91      0.93      0.92     10627\n",
      "\n",
      "    accuracy                           0.89     15000\n",
      "   macro avg       0.86      0.86      0.86     15000\n",
      "weighted avg       0.88      0.89      0.88     15000\n",
      "\n"
     ]
    }
   ],
   "source": [
    "#perform confusion matrix on classifier\n",
    "from sklearn.metrics import confusion_matrix\n",
    "from sklearn.metrics import classification_report\n",
    "rfc.fit(X3_train, y3_train)\n",
    "rfc_pred = rfc.predict(X3_test)\n",
    "conf_matrix_rfc = confusion_matrix(y3_test, rfc_pred)\n",
    "print(conf_matrix_rfc)\n",
    "print(classification_report(y3_test,rfc_pred))"
   ]
  },
  {
   "cell_type": "code",
   "execution_count": 74,
   "metadata": {},
   "outputs": [
    {
     "name": "stdout",
     "output_type": "stream",
     "text": [
      "Epoch 1/10\n",
      "50000/50000 [==============================] - 7s 130us/step - loss: 0.0836 - acc: 0.9805\n",
      "Epoch 2/10\n",
      "50000/50000 [==============================] - 6s 116us/step - loss: 0.1248 - acc: 0.9487\n",
      "Epoch 3/10\n",
      "50000/50000 [==============================] - 6s 113us/step - loss: 0.1249 - acc: 0.9471\n",
      "Epoch 4/10\n",
      "50000/50000 [==============================] - 6s 110us/step - loss: 0.1251 - acc: 0.9463\n",
      "Epoch 5/10\n",
      "50000/50000 [==============================] - 6s 110us/step - loss: 0.1253 - acc: 0.9450\n",
      "Epoch 6/10\n",
      "50000/50000 [==============================] - 5s 108us/step - loss: 0.1254 - acc: 0.9445\n",
      "Epoch 7/10\n",
      "50000/50000 [==============================] - 6s 113us/step - loss: 0.1256 - acc: 0.9438\n",
      "Epoch 8/10\n",
      "50000/50000 [==============================] - 6s 112us/step - loss: 0.1257 - acc: 0.9433\n",
      "Epoch 9/10\n",
      "50000/50000 [==============================] - 5s 94us/step - loss: 0.1258 - acc: 0.9432\n",
      "Epoch 10/10\n",
      "50000/50000 [==============================] - 5s 94us/step - loss: 0.1259 - acc: 0.9435\n",
      "50000/50000 [==============================] - 2s 31us/step\n",
      "\n",
      "acc: 70.95%\n"
     ]
    }
   ],
   "source": [
    "from keras.models import Sequential\n",
    "from keras.layers import Dense\n",
    "import warnings\n",
    "warnings.filterwarnings('ignore')\n",
    "import numpy\n",
    "from keras.optimizers import SGD\n",
    "numpy.random.seed(7)\n",
    "model = Sequential()\n",
    "model.add(Dense(1,input_dim=14, init='zero', activation='sigmoid'))\n",
    "model.compile(loss='binary_crossentropy', optimizer=SGD(lr=0.0001), metrics=['accuracy'])\n",
    "model.fit(X3, y2, epochs=10, batch_size=15,shuffle=False)\n",
    "scores = model.evaluate(X3, y2)\n",
    "print(\"\\n%s: %.2f%%\" % (model.metrics_names[1], scores[1]*100))"
   ]
  },
  {
   "cell_type": "markdown",
   "metadata": {},
   "source": [
    "## Comparing the random forest algorithm with the deep learning keras algorithm the random forest classifier is the best model at 89% test accuracy for determining retained users and also has a 89% precision, recall and F1 score. "
   ]
  },
  {
   "cell_type": "code",
   "execution_count": null,
   "metadata": {},
   "outputs": [],
   "source": []
  }
 ],
 "metadata": {
  "kernelspec": {
   "display_name": "Python 3",
   "language": "python",
   "name": "python3"
  },
  "language_info": {
   "codemirror_mode": {
    "name": "ipython",
    "version": 3
   },
   "file_extension": ".py",
   "mimetype": "text/x-python",
   "name": "python",
   "nbconvert_exporter": "python",
   "pygments_lexer": "ipython3",
   "version": "3.6.5"
  }
 },
 "nbformat": 4,
 "nbformat_minor": 2
}
